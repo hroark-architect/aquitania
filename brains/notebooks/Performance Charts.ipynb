{
 "cells": [
  {
   "cell_type": "markdown",
   "metadata": {},
   "source": [
    "# Performance Charts"
   ]
  },
  {
   "cell_type": "code",
   "execution_count": null,
   "metadata": {},
   "outputs": [],
   "source": [
    "import pandas as pd"
   ]
  },
  {
   "cell_type": "code",
   "execution_count": null,
   "metadata": {},
   "outputs": [],
   "source": [
    "df = pd.read_csv('../../data/ai/all_trades.csv', index_col=[0], parse_dates=[0])"
   ]
  },
  {
   "cell_type": "markdown",
   "metadata": {},
   "source": [
    "# 1. Financial Performance Chart"
   ]
  },
  {
   "cell_type": "code",
   "execution_count": null,
   "metadata": {
    "scrolled": true
   },
   "outputs": [],
   "source": [
    " # Calculates 'start_balance'\n",
    "start_balance_d = df.resample('D')['start_balance'].head(1)\n",
    "\n",
    "# Calculates 'end_balance'\n",
    "end_balance_d = df.resample('D')['end_balance'].tail(1)\n",
    "\n",
    "# Plots Financial Performance\n",
    "end_balance_d.plot()"
   ]
  },
  {
   "cell_type": "markdown",
   "metadata": {},
   "source": [
    "# 2. Yearly Performance Graph"
   ]
  },
  {
   "cell_type": "code",
   "execution_count": null,
   "metadata": {},
   "outputs": [],
   "source": [
    " # Calculates 'start_balance'\n",
    "start_balance = df.resample('Y')['start_balance'].head(1)\n",
    "\n",
    "# Calculates 'end_balance'\n",
    "end_balance = df.resample('Y')['end_balance'].tail(1)\n",
    "\n",
    "# Calculates yearly returns\n",
    "ser = pd.Series(end_balance.values / start_balance.values, index=end_balance.index).subtract(1)\n",
    "\n",
    "# Gets right labels\n",
    "ser.index = pd.to_datetime(ser.index).year\n",
    "\n",
    "# Plots Graph\n",
    "ser.plot.bar()"
   ]
  },
  {
   "cell_type": "markdown",
   "metadata": {},
   "source": [
    "# 3. Distribution of Trades by Year"
   ]
  },
  {
   "cell_type": "code",
   "execution_count": null,
   "metadata": {},
   "outputs": [],
   "source": [
    " # Calculates 'total_trades'\n",
    "total_trades = df[(df['kelly_coh'] > 0) | (df['kelly_coh_i'] > 0)]['results'].resample('Y').count()\n",
    "\n",
    "# Gets right labels\n",
    "total_trades.index = pd.to_datetime(total_trades.index).year\n",
    "\n",
    "# Plots Graph\n",
    "total_trades.plot.bar()"
   ]
  },
  {
   "cell_type": "code",
   "execution_count": null,
   "metadata": {},
   "outputs": [],
   "source": []
  }
 ],
 "metadata": {
  "kernelspec": {
   "display_name": "Python 3",
   "language": "python",
   "name": "python3"
  },
  "language_info": {
   "codemirror_mode": {
    "name": "ipython",
    "version": 3
   },
   "file_extension": ".py",
   "mimetype": "text/x-python",
   "name": "python",
   "nbconvert_exporter": "python",
   "pygments_lexer": "ipython3",
   "version": "3.6.4"
  }
 },
 "nbformat": 4,
 "nbformat_minor": 2
}
